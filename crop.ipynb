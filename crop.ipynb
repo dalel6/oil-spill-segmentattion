{
 "cells": [
  {
   "cell_type": "code",
   "execution_count": 9,
   "id": "60414c9e-e562-4645-a255-0e1ae644e837",
   "metadata": {},
   "outputs": [
    {
     "name": "stdout",
     "output_type": "stream",
     "text": [
      "No contour found in the binary mask with pixel value 1.\n",
      "No contour found in the binary mask with pixel value 1.\n",
      "No contour found in the binary mask with pixel value 1.\n",
      "No contour found in the binary mask with pixel value 1.\n",
      "No contour found in the binary mask with pixel value 1.\n",
      "No contour found in the binary mask with pixel value 1.\n",
      "No contour found in the binary mask with pixel value 1.\n",
      "No contour found in the binary mask with pixel value 1.\n",
      "No contour found in the binary mask with pixel value 1.\n",
      "No contour found in the binary mask with pixel value 1.\n",
      "No contour found in the binary mask with pixel value 1.\n",
      "No contour found in the binary mask with pixel value 1.\n",
      "No contour found in the binary mask with pixel value 1.\n",
      "No contour found in the binary mask with pixel value 1.\n",
      "No contour found in the binary mask with pixel value 1.\n",
      "No contour found in the binary mask with pixel value 1.\n",
      "No contour found in the binary mask with pixel value 1.\n",
      "No contour found in the binary mask with pixel value 1.\n",
      "No contour found in the binary mask with pixel value 1.\n",
      "No contour found in the binary mask with pixel value 1.\n",
      "No contour found in the binary mask with pixel value 1.\n",
      "No contour found in the binary mask with pixel value 1.\n",
      "No contour found in the binary mask with pixel value 1.\n",
      "Error loading the original image.\n",
      "No contour found in the binary mask with pixel value 1.\n",
      "No contour found in the binary mask with pixel value 1.\n",
      "No contour found in the binary mask with pixel value 1.\n",
      "No contour found in the binary mask with pixel value 1.\n",
      "No contour found in the binary mask with pixel value 1.\n"
     ]
    }
   ],
   "source": [
    "import cv2\n",
    "import numpy as np\n",
    "import os\n",
    "\n",
    "# Path to the directories containing images and their masks\n",
    "image_directory = './image/'\n",
    "mask_directory = './mask/'\n",
    "output_directory = './imagenet/'\n",
    "\n",
    "# Get a list of all image files in the image directory\n",
    "image_files = os.listdir(image_directory)\n",
    "for image_file in image_files:\n",
    "    # Load the original image\n",
    "    original_image = cv2.imread(os.path.join(image_directory, image_file))\n",
    "    if original_image is not None:\n",
    "        mask_file = os.path.join(mask_directory, image_file)\n",
    "        binary_mask = cv2.imread(mask_file, cv2.IMREAD_GRAYSCALE)\n",
    "        if binary_mask is not None:\n",
    "            resized_binary_mask = cv2.resize(binary_mask, (640, 640), interpolation=cv2.INTER_AREA)\n",
    "\n",
    "            # Threshold the resized binary mask to create a mask with pixel values either 0 or 1\n",
    "            _, resized_binary_mask = cv2.threshold(resized_binary_mask, 127, 1, cv2.THRESH_BINARY)\n",
    "\n",
    "            # Find contours in the resized binary mask\n",
    "            contours, _ = cv2.findContours(np.uint8(resized_binary_mask), cv2.RETR_EXTERNAL, cv2.CHAIN_APPROX_SIMPLE)\n",
    "\n",
    "            # Check if there are contours with pixel value 1\n",
    "            if contours:\n",
    "                largest_contour = max(contours, key=cv2.contourArea)\n",
    "\n",
    "                # Get the bounding box of the segmented area\n",
    "                x, y, w, h = cv2.boundingRect(largest_contour)\n",
    "\n",
    "                # Create a mask to isolate the segmented area\n",
    "                mask = np.zeros_like(resized_binary_mask)\n",
    "                cv2.drawContours(mask, [largest_contour], -1, 255, cv2.FILLED)\n",
    "\n",
    "                # Ensure the mask has the same shape as the original image\n",
    "                mask = cv2.resize(mask, (original_image.shape[1], original_image.shape[0]), interpolation=cv2.INTER_NEAREST)\n",
    "\n",
    "                # Apply the mask to the original image to crop the desired area\n",
    "                cropped_image = cv2.bitwise_and(original_image, original_image, mask=mask)\n",
    "                output_path = os.path.join(output_directory, f'cropped_{image_file}')\n",
    "                cv2.imwrite(output_path, cropped_image)\n",
    "            else:\n",
    "                print(\"No contour found in the binary mask with pixel value 1.\")\n",
    "        else:\n",
    "            print(\"Error loading the binary mask.\")\n",
    "    else:\n",
    "        print(\"Error loading the original image.\")\n"
   ]
  },
  {
   "cell_type": "code",
   "execution_count": null,
   "id": "85dcb035-b91a-4739-a665-345aed3d5283",
   "metadata": {},
   "outputs": [],
   "source": []
  }
 ],
 "metadata": {
  "kernelspec": {
   "display_name": "Python 3 (ipykernel)",
   "language": "python",
   "name": "python3"
  },
  "language_info": {
   "codemirror_mode": {
    "name": "ipython",
    "version": 3
   },
   "file_extension": ".py",
   "mimetype": "text/x-python",
   "name": "python",
   "nbconvert_exporter": "python",
   "pygments_lexer": "ipython3",
   "version": "3.8.18"
  }
 },
 "nbformat": 4,
 "nbformat_minor": 5
}
